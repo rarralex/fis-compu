{
 "metadata": {
  "language": "Julia",
  "name": "",
  "signature": "sha256:d1950724081fcbaa4ea680bdcc961cf5476fa31ea60cb729d00fc2de06eabbbc"
 },
 "nbformat": 3,
 "nbformat_minor": 0,
 "worksheets": [
  {
   "cells": [
    {
     "cell_type": "code",
     "collapsed": false,
     "input": [
      ";git init"
     ],
     "language": "python",
     "metadata": {},
     "outputs": [
      {
       "output_type": "stream",
       "stream": "stdout",
       "text": [
        "Reinitialized existing Git repository in /home/alex/git-test/.git/\n"
       ]
      }
     ],
     "prompt_number": 7
    },
    {
     "cell_type": "code",
     "collapsed": false,
     "input": [
      "1+1"
     ],
     "language": "python",
     "metadata": {},
     "outputs": [
      {
       "metadata": {},
       "output_type": "pyout",
       "prompt_number": 1,
       "text": [
        "2"
       ]
      }
     ],
     "prompt_number": 1
    },
    {
     "cell_type": "code",
     "collapsed": false,
     "input": [
      "plot[sin(x)]"
     ],
     "language": "python",
     "metadata": {},
     "outputs": [
      {
       "ename": "LoadError",
       "evalue": "plot not defined\nwhile loading In[2], in expression starting on line 1",
       "output_type": "pyerr",
       "traceback": [
        "plot not defined\nwhile loading In[2], in expression starting on line 1",
        ""
       ]
      }
     ],
     "prompt_number": 2
    },
    {
     "cell_type": "code",
     "collapsed": false,
     "input": [
      "v=[1,2,3]\n",
      "w=[4,6,7]"
     ],
     "language": "python",
     "metadata": {},
     "outputs": [
      {
       "metadata": {},
       "output_type": "pyout",
       "prompt_number": 3,
       "text": [
        "3-element Array{Int64,1}:\n",
        " 4\n",
        " 6\n",
        " 7"
       ]
      }
     ],
     "prompt_number": 3
    },
    {
     "cell_type": "code",
     "collapsed": false,
     "input": [
      "v*w"
     ],
     "language": "python",
     "metadata": {},
     "outputs": [
      {
       "ename": "LoadError",
       "evalue": "`*` has no method matching *(::Array{Int64,1}, ::Array{Int64,1})\nwhile loading In[4], in expression starting on line 1",
       "output_type": "pyerr",
       "traceback": [
        "`*` has no method matching *(::Array{Int64,1}, ::Array{Int64,1})\nwhile loading In[4], in expression starting on line 1",
        ""
       ]
      }
     ],
     "prompt_number": 4
    },
    {
     "cell_type": "code",
     "collapsed": false,
     "input": [
      "v \u00d7 w"
     ],
     "language": "python",
     "metadata": {},
     "outputs": [
      {
       "metadata": {},
       "output_type": "pyout",
       "prompt_number": 6,
       "text": [
        "3-element Array{Int64,1}:\n",
        " -4\n",
        "  5\n",
        " -2"
       ]
      }
     ],
     "prompt_number": 6
    },
    {
     "cell_type": "code",
     "collapsed": false,
     "input": [
      "; git status"
     ],
     "language": "python",
     "metadata": {},
     "outputs": [
      {
       "output_type": "stream",
       "stream": "stdout",
       "text": [
        "On branch master\n",
        "Changes to be committed:\n",
        "  (use \"git reset HEAD <file>...\" to unstage)\n",
        "\n",
        "\tnew file:   01'-git.ipynb\n",
        "\n",
        "Changes not staged for commit:\n",
        "  (use \"git add <file>...\" to update what will be committed)\n",
        "  (use \"git checkout -- <file>...\" to discard changes in working directory)\n",
        "\n",
        "\tmodified:   01'-git.ipynb\n",
        "\tmodified:   01-git.ipynb\n",
        "\n",
        "Untracked files:\n",
        "  (use \"git add <file>...\" to include in what will be committed)\n",
        "\n",
        "\tuno.ipynb\n",
        "\n"
       ]
      }
     ],
     "prompt_number": 9
    },
    {
     "cell_type": "code",
     "collapsed": false,
     "input": [
      ";git add uno.ipynb"
     ],
     "language": "python",
     "metadata": {},
     "outputs": [],
     "prompt_number": 10
    },
    {
     "cell_type": "code",
     "collapsed": false,
     "input": [
      ";git status"
     ],
     "language": "python",
     "metadata": {},
     "outputs": [
      {
       "output_type": "stream",
       "stream": "stdout",
       "text": [
        "On branch master\n",
        "Changes to be committed:\n",
        "  (use \"git reset HEAD <file>...\" to unstage)\n",
        "\n",
        "\tnew file:   01'-git.ipynb\n",
        "\tnew file:   uno.ipynb\n",
        "\n",
        "Changes not staged for commit:\n",
        "  (use \"git add <file>...\" to update what will be committed)\n",
        "  (use \"git checkout -- <file>...\" to discard changes in working directory)\n",
        "\n",
        "\tmodified:   01'-git.ipynb\n",
        "\tmodified:   01-git.ipynb\n",
        "\n"
       ]
      }
     ],
     "prompt_number": 11
    },
    {
     "cell_type": "code",
     "collapsed": false,
     "input": [],
     "language": "python",
     "metadata": {},
     "outputs": []
    }
   ],
   "metadata": {}
  }
 ]
}